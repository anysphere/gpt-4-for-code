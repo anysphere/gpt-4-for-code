{
 "cells": [
  {
   "cell_type": "code",
   "execution_count": 8,
   "metadata": {},
   "outputs": [],
   "source": [
    "import torch"
   ]
  },
  {
   "cell_type": "code",
   "execution_count": 7,
   "metadata": {},
   "outputs": [],
   "source": [
    "def shift_tensor(xs: torch.Tensor, shifts: torch.Tensor):\n",
    "  # xs is shape BxLxD\n",
    "  # shift has shape B\n",
    "  rval = []\n",
    "  for x, i in zip(xs, shifts):\n",
    "    x = torch.roll(x, shifts=i.item(), dims = 0)\n",
    "    if i > 0:\n",
    "      x[:i] = 0\n",
    "    rval.append(x)\n",
    "  return torch.stack(rval, dim=0)"
   ]
  },
  {
   "cell_type": "code",
   "execution_count": null,
   "metadata": {},
   "outputs": [],
   "source": [
    "torch.random.manual_seed(1)\n",
    "xs = torch.randn(2, 12, 3)\n",
    "shifts = torch.randint(-5, 12, (2,))\n",
    "fill_value = 0\n",
    "# Compute output using shift tensor\n",
    "shifted_tensor = shift_tensor(xs, shifts)\n",
    "# Compute output using shift_tensor_v2\n",
    "shifted_tensor_v2 = shift_tensor_v2(xs, shifts)\n",
    "\n",
    "# Check that the two outputs are equal\n",
    "assert torch.allclose(shifted_tensor, shifted_tensor_v2) \n",
    "\n",
    "# OMG THIS WORKS!"
   ]
  },
  {
   "cell_type": "code",
   "execution_count": null,
   "metadata": {},
   "outputs": [],
   "source": []
  }
 ],
 "metadata": {
  "kernelspec": {
   "display_name": "Python 3",
   "language": "python",
   "name": "python3"
  },
  "language_info": {
   "codemirror_mode": {
    "name": "ipython",
    "version": 3
   },
   "file_extension": ".py",
   "mimetype": "text/x-python",
   "name": "python",
   "nbconvert_exporter": "python",
   "pygments_lexer": "ipython3",
   "version": "3.9.12"
  },
  "orig_nbformat": 4
 },
 "nbformat": 4,
 "nbformat_minor": 2
}
